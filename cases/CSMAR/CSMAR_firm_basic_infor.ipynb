{
 "cells": [
  {
   "cell_type": "markdown",
   "id": "b37c257d",
   "metadata": {},
   "source": [
    "# CAMAR 上市公司基本信息\n",
    "\n",
    "本文介绍如何从 CAMAR 获取上市公司基本信息，包括公司名称、注册资本、成立日期、注册地址等。\n",
    "\n",
    "- 网址：<https://data.csmar.com/>\n",
    "- 登录：中大 IP 地址范围内自动登录 (机构账号)\n",
    "- 子库：`首页 /数据中心 /单表查询 /公司研究系列 /上市公司基本信息`\n",
    "\n",
    "## 基本流程\n",
    "\n",
    "- **基本设定**：依次进行 **时间设置**、**代码设置**、**字段设置**、**条件筛选**，以确定数据的时间范围、代码范围、字段范围和数据筛选条件。\n",
    "- **联表查询**：可以将其他表格数据合并到当前表格中，形成一个新的表格。\n",
    "- **下载数据**：可以选择 Excel, CSV, TXT 或 Stata 格式下载数据。\n",
    "\n",
    "### 我的一些基本设定\n",
    "- 时间区间：开始时间 2000-12-31；结束时间 2024-12-31\n",
    "- 代码设置：常用代码 / 全部A股\n",
    "- 字段设置：全选 &rarr; 排除「董秘传真」\n",
    "- 条件筛选：留空\n",
    "- 联表查询：留空\n",
    "- 下载数据：\n",
    "  - 选择文件输出类型 `Excel2007格式 (*.xlsx) 推荐`\n",
    "  - 可以填入自己的邮箱，则数据自动发至邮箱；否则会弹出一个下载页面\n",
    "\n",
    "最终的下载页面信息如下：\n",
    "\n",
    "![20250414120211](https://fig-lianxh.oss-cn-shenzhen.aliyuncs.com/20250414120211.png)\n",
    "\n",
    "解压后会得到两份文件：\n",
    "- `stk_listedcoinfoanl.xlsx`: 数据文件\n",
    "- `STK_LISTEDCOINFOANL[DES][xlsx].txt`: 变量说明文件"
   ]
  },
  {
   "cell_type": "markdown",
   "id": "1e31b253",
   "metadata": {},
   "source": [
    "## Python 处理过程\n",
    "\n",
    "接下来，我们在 Copolit 的提示下 (偶尔会借助 ChatGPT 或 DeepSeek) 来完成数据的导入和预处理。\n",
    "\n",
    "为了提升表格的显示效果，我预先安装了 VScode 扩展插件：\n",
    "- **Data Wrangler**"
   ]
  },
  {
   "cell_type": "markdown",
   "id": "e8f04001",
   "metadata": {},
   "source": [
    "## ChatGPT 提示词\n",
    "\n",
    "```raw\n",
    "Python 数据处理：标签文件\n",
    "\n",
    "- myFolder：D:\\Github\\dsfinance\\case\\CSMAR\\data_raw\n",
    "- Files:\n",
    "  - myFile1: STK_LISTEDCOINFOANL.xlsx\n",
    "  - myFile2：STK_LISTEDCOINFOANL[DES][xlsx].txt\n",
    "\n",
    "- Files 的内容：\n",
    "\n",
    "  - myFile1 的内容样式：\n",
    "'''\n",
    "Symbol\tShortName\tEndDate\tListedCoID\n",
    "股票代码\t股票简称\t统计截止日期\t上市公司ID\n",
    "没有单位\t没有单位\t没有单位\t没有单位\n",
    "000001\t深发展A\t2000-12-31\t101704\n",
    "000001\t深发展A\t2001-12-31\t101704\n",
    "''' \n",
    "    - Note: 第一行为 变量名，第二行为变量中文名，第三行为单位（没有单位则为空）。\n",
    "    - 第三行的处理建议：\n",
    "      - 如果单位是“没有单位”，则忽略该信息。\n",
    "      - 如果单位是“万元”，则将其附加到变量中文名后，写为「变量中文名（万元）」。\n",
    "\n",
    "  - myFile2 的内容样式：'VarName' ['变量中文名'] - '变量描述'\n",
    "\n",
    "'''{myFile2 sample data}\n",
    "Symbol [股票代码] - 上交所、深交所和北交所上市的证券代码。\n",
    "ShortName [股票简称] - 上交所、深交所和北交所上市上市的股票简称。\n",
    "EndDate [统计截止日期] - YYYY-MM-DD。\n",
    "ListedCoID [上市公司ID] - 希施玛内部编制的上市公司ID。\n",
    "SecurityID [证券ID] - 希施玛内部编制的证券ID。\n",
    "'''\n",
    "\n",
    "## 任务\n",
    "\n",
    "### 任务 1：\n",
    "导入 myFile1, 并将其转换为 DataFrame 对象，并命名为 STK_basic_inf。\n",
    "\n",
    "\n",
    "### 任务 2：\n",
    "写一段 Python 代码，把 [myFile2] 中的信息整理成两个字典\n",
    "   字典 1 (dic_var_Cname)：'VarName' - '变量中文名'\n",
    "   字典 2 (dic_var_Cnotes)：'VarName' - '变量描述'\n",
    "```   "
   ]
  },
  {
   "cell_type": "markdown",
   "id": "038d635d",
   "metadata": {},
   "source": [
    "### 任务 1：导入 myFile1 并将其转换为 DataFrame 对象\n",
    "\n",
    "首先，我们需要导入 `myFile1` 文件，并将其转换为 DataFrame 对象。以下是相应的 Python 代码实现："
   ]
  },
  {
   "cell_type": "code",
   "execution_count": 1,
   "id": "85e3da49",
   "metadata": {},
   "outputs": [
    {
     "name": "stderr",
     "output_type": "stream",
     "text": [
      "c:\\ProgramData\\anaconda3\\Lib\\site-packages\\openpyxl\\styles\\stylesheet.py:237: UserWarning: Workbook contains no default style, apply openpyxl's default\n",
      "  warn(\"Workbook contains no default style, apply openpyxl's default\")\n"
     ]
    }
   ],
   "source": [
    "import pandas as pd\n",
    "\n",
    "# 读取 myFile1: STK_LISTEDCOINFOANL.xlsx\n",
    "folder = r'D:\\Github\\dsfinance\\case\\CSMAR\\data_raw'\n",
    "filename = 'STK_LISTEDCOINFOANL.xlsx'\n",
    "file_path = f\"{folder}\\\\{filename}\"\n",
    "\n",
    "STK_basic_inf = pd.read_excel(file_path)\n"
   ]
  },
  {
   "cell_type": "code",
   "execution_count": 54,
   "id": "261ca5f1",
   "metadata": {},
   "outputs": [
    {
     "data": {
      "application/vnd.microsoft.datawrangler.viewer.v0+json": {
       "columns": [
        {
         "name": "index",
         "rawType": "int64",
         "type": "integer"
        },
        {
         "name": "Symbol",
         "rawType": "object",
         "type": "string"
        },
        {
         "name": "ShortName",
         "rawType": "object",
         "type": "string"
        },
        {
         "name": "EndDate",
         "rawType": "object",
         "type": "string"
        },
        {
         "name": "ListedCoID",
         "rawType": "object",
         "type": "string"
        }
       ],
       "conversionMethod": "pd.DataFrame",
       "ref": "6a7b3c37-805c-41f8-9306-28b5cc1492e8",
       "rows": [
        [
         "0",
         "股票代码",
         "股票简称",
         "统计截止日期",
         "上市公司ID"
        ],
        [
         "1",
         "没有单位",
         "没有单位",
         "没有单位",
         "没有单位"
        ],
        [
         "2",
         "000001",
         "深发展A",
         "2000-12-31",
         "101704"
        ],
        [
         "3",
         "000001",
         "深发展A",
         "2001-12-31",
         "101704"
        ]
       ],
       "shape": {
        "columns": 4,
        "rows": 4
       }
      },
      "text/html": [
       "<div>\n",
       "<style scoped>\n",
       "    .dataframe tbody tr th:only-of-type {\n",
       "        vertical-align: middle;\n",
       "    }\n",
       "\n",
       "    .dataframe tbody tr th {\n",
       "        vertical-align: top;\n",
       "    }\n",
       "\n",
       "    .dataframe thead th {\n",
       "        text-align: right;\n",
       "    }\n",
       "</style>\n",
       "<table border=\"1\" class=\"dataframe\">\n",
       "  <thead>\n",
       "    <tr style=\"text-align: right;\">\n",
       "      <th></th>\n",
       "      <th>Symbol</th>\n",
       "      <th>ShortName</th>\n",
       "      <th>EndDate</th>\n",
       "      <th>ListedCoID</th>\n",
       "    </tr>\n",
       "  </thead>\n",
       "  <tbody>\n",
       "    <tr>\n",
       "      <th>0</th>\n",
       "      <td>股票代码</td>\n",
       "      <td>股票简称</td>\n",
       "      <td>统计截止日期</td>\n",
       "      <td>上市公司ID</td>\n",
       "    </tr>\n",
       "    <tr>\n",
       "      <th>1</th>\n",
       "      <td>没有单位</td>\n",
       "      <td>没有单位</td>\n",
       "      <td>没有单位</td>\n",
       "      <td>没有单位</td>\n",
       "    </tr>\n",
       "    <tr>\n",
       "      <th>2</th>\n",
       "      <td>000001</td>\n",
       "      <td>深发展A</td>\n",
       "      <td>2000-1...</td>\n",
       "      <td>101704</td>\n",
       "    </tr>\n",
       "    <tr>\n",
       "      <th>3</th>\n",
       "      <td>000001</td>\n",
       "      <td>深发展A</td>\n",
       "      <td>2001-1...</td>\n",
       "      <td>101704</td>\n",
       "    </tr>\n",
       "  </tbody>\n",
       "</table>\n",
       "</div>"
      ],
      "text/plain": [
       "   Symbol ShortName    EndDate ListedCoID\n",
       "0    股票代码      股票简称     统计截止日期     上市公司ID\n",
       "1    没有单位      没有单位       没有单位       没有单位\n",
       "2  000001      深发展A  2000-1...     101704\n",
       "3  000001      深发展A  2001-1...     101704"
      ]
     },
     "execution_count": 54,
     "metadata": {},
     "output_type": "execute_result"
    }
   ],
   "source": [
    "# 提示词：查看数据框的前四列，前四行\n",
    "\n",
    "# 查看数据框的前四列，前四行\n",
    "STK_basic_inf.iloc[:4, :4]\n",
    "# 如果不明白 STK_basic_inf.iloc[:4, :4] 的意思，可以使用 help 函数查看\n",
    "# help(STK_basic_inf.iloc)"
   ]
  },
  {
   "cell_type": "code",
   "execution_count": 55,
   "id": "bc87a51d",
   "metadata": {},
   "outputs": [
    {
     "data": {
      "application/vnd.microsoft.datawrangler.viewer.v0+json": {
       "columns": [
        {
         "name": "index",
         "rawType": "int64",
         "type": "integer"
        },
        {
         "name": "Symbol",
         "rawType": "object",
         "type": "string"
        },
        {
         "name": "ShortName",
         "rawType": "object",
         "type": "string"
        },
        {
         "name": "EndDate",
         "rawType": "object",
         "type": "string"
        }
       ],
       "conversionMethod": "pd.DataFrame",
       "ref": "70ffcb96-af40-4a10-95ea-9915fe684af1",
       "rows": [
        [
         "0",
         "股票代码",
         "股票简称",
         "统计截止日期"
        ],
        [
         "1",
         "000001",
         "深发展A",
         "2000-12-31"
        ],
        [
         "2",
         "000001",
         "深发展A",
         "2001-12-31"
        ]
       ],
       "shape": {
        "columns": 3,
        "rows": 3
       }
      },
      "text/html": [
       "<div>\n",
       "<style scoped>\n",
       "    .dataframe tbody tr th:only-of-type {\n",
       "        vertical-align: middle;\n",
       "    }\n",
       "\n",
       "    .dataframe tbody tr th {\n",
       "        vertical-align: top;\n",
       "    }\n",
       "\n",
       "    .dataframe thead th {\n",
       "        text-align: right;\n",
       "    }\n",
       "</style>\n",
       "<table border=\"1\" class=\"dataframe\">\n",
       "  <thead>\n",
       "    <tr style=\"text-align: right;\">\n",
       "      <th></th>\n",
       "      <th>Symbol</th>\n",
       "      <th>ShortName</th>\n",
       "      <th>EndDate</th>\n",
       "    </tr>\n",
       "  </thead>\n",
       "  <tbody>\n",
       "    <tr>\n",
       "      <th>0</th>\n",
       "      <td>股票代码</td>\n",
       "      <td>股票简称</td>\n",
       "      <td>统计截止日期</td>\n",
       "    </tr>\n",
       "    <tr>\n",
       "      <th>1</th>\n",
       "      <td>000001</td>\n",
       "      <td>深发展A</td>\n",
       "      <td>2000-1...</td>\n",
       "    </tr>\n",
       "    <tr>\n",
       "      <th>2</th>\n",
       "      <td>000001</td>\n",
       "      <td>深发展A</td>\n",
       "      <td>2001-1...</td>\n",
       "    </tr>\n",
       "  </tbody>\n",
       "</table>\n",
       "</div>"
      ],
      "text/plain": [
       "   Symbol ShortName    EndDate\n",
       "0    股票代码      股票简称     统计截止日期\n",
       "1  000001      深发展A  2000-1...\n",
       "2  000001      深发展A  2001-1..."
      ]
     },
     "execution_count": 55,
     "metadata": {},
     "output_type": "execute_result"
    }
   ],
   "source": [
    "# 提示词：删除第二行观察值 '没有单位'\n",
    "STK_basic_inf = STK_basic_inf.drop(index=1).reset_index(drop=True)\n",
    "STK_basic_inf.iloc[:3, :3]  # 显示前3行和前3列"
   ]
  },
  {
   "cell_type": "markdown",
   "id": "d551bb13",
   "metadata": {},
   "source": [
    "我们发现，第一行并不是实际的观测值，而是变量的中文介绍。我们需要将这些信息提取出来，并将其作为变量的标签。\n",
    "\n",
    "> 提示词：把 index=0，即第一行观察值中的字符串提取出来，做成对应变量的 variable label 。以第一列为例，类似于 Stata 中的 label variable Symbol \"股票代码\"。最终的字典格式为：`{'Symbol': '股票代码', 'ShortName': '公司名称', ...}`。"
   ]
  },
  {
   "cell_type": "code",
   "execution_count": 56,
   "id": "328798e0",
   "metadata": {},
   "outputs": [
    {
     "data": {
      "text/plain": [
       "{'Symbol': '股票代码', 'ShortName': '股票简称', 'EndDate': '统计截止日期'}"
      ]
     },
     "execution_count": 56,
     "metadata": {},
     "output_type": "execute_result"
    }
   ],
   "source": [
    "# 提取第一行观察值作为 variable label\n",
    "labels_list = {col: STK_basic_inf.iloc[0][col] for col in STK_basic_inf.columns}\n",
    "\n",
    "# 创建最终的字典格式，将列名映射到对应的 variable label\n",
    "variable_labels = {col: labels_list[col] for col in STK_basic_inf.columns}\n",
    "\n",
    "# 输出最终的字典的前三个键值对\n",
    "dict(list(variable_labels.items())[:3])\n"
   ]
  },
  {
   "cell_type": "code",
   "execution_count": null,
   "id": "75bc679a",
   "metadata": {},
   "outputs": [
    {
     "data": {
      "text/html": [
       "<style type=\"text/css\">\n",
       "#T_f6475_row0_col0, #T_f6475_row1_col0, #T_f6475_row2_col0, #T_f6475_row3_col0, #T_f6475_row4_col0, #T_f6475_row5_col0, #T_f6475_row6_col0, #T_f6475_row7_col0, #T_f6475_row8_col0, #T_f6475_row9_col0, #T_f6475_row10_col0, #T_f6475_row11_col0, #T_f6475_row12_col0, #T_f6475_row13_col0, #T_f6475_row14_col0, #T_f6475_row15_col0, #T_f6475_row16_col0, #T_f6475_row17_col0, #T_f6475_row18_col0, #T_f6475_row19_col0, #T_f6475_row20_col0, #T_f6475_row21_col0, #T_f6475_row22_col0, #T_f6475_row23_col0, #T_f6475_row24_col0, #T_f6475_row25_col0, #T_f6475_row26_col0, #T_f6475_row27_col0, #T_f6475_row28_col0, #T_f6475_row29_col0, #T_f6475_row30_col0, #T_f6475_row31_col0, #T_f6475_row32_col0, #T_f6475_row33_col0, #T_f6475_row34_col0, #T_f6475_row35_col0, #T_f6475_row36_col0, #T_f6475_row37_col0, #T_f6475_row38_col0, #T_f6475_row39_col0 {\n",
       "  text-align: left;\n",
       "}\n",
       "</style>\n",
       "<table id=\"T_f6475\">\n",
       "  <thead>\n",
       "    <tr>\n",
       "      <th class=\"blank level0\" >&nbsp;</th>\n",
       "      <th id=\"T_f6475_level0_col0\" class=\"col_heading level0 col0\" >0</th>\n",
       "    </tr>\n",
       "  </thead>\n",
       "  <tbody>\n",
       "    <tr>\n",
       "      <th id=\"T_f6475_level0_row0\" class=\"row_heading level0 row0\" >Symbol</th>\n",
       "      <td id=\"T_f6475_row0_col0\" class=\"data row0 col0\" >股票代码</td>\n",
       "    </tr>\n",
       "    <tr>\n",
       "      <th id=\"T_f6475_level0_row1\" class=\"row_heading level0 row1\" >ShortName</th>\n",
       "      <td id=\"T_f6475_row1_col0\" class=\"data row1 col0\" >股票简称</td>\n",
       "    </tr>\n",
       "    <tr>\n",
       "      <th id=\"T_f6475_level0_row2\" class=\"row_heading level0 row2\" >EndDate</th>\n",
       "      <td id=\"T_f6475_row2_col0\" class=\"data row2 col0\" >统计截止日期</td>\n",
       "    </tr>\n",
       "    <tr>\n",
       "      <th id=\"T_f6475_level0_row3\" class=\"row_heading level0 row3\" >ListedCoID</th>\n",
       "      <td id=\"T_f6475_row3_col0\" class=\"data row3 col0\" >上市公司ID</td>\n",
       "    </tr>\n",
       "    <tr>\n",
       "      <th id=\"T_f6475_level0_row4\" class=\"row_heading level0 row4\" >SecurityID</th>\n",
       "      <td id=\"T_f6475_row4_col0\" class=\"data row4 col0\" >证券ID</td>\n",
       "    </tr>\n",
       "    <tr>\n",
       "      <th id=\"T_f6475_level0_row5\" class=\"row_heading level0 row5\" >IndustryName</th>\n",
       "      <td id=\"T_f6475_row5_col0\" class=\"data row5 col0\" >行业名称</td>\n",
       "    </tr>\n",
       "    <tr>\n",
       "      <th id=\"T_f6475_level0_row6\" class=\"row_heading level0 row6\" >IndustryCode</th>\n",
       "      <td id=\"T_f6475_row6_col0\" class=\"data row6 col0\" >行业代码</td>\n",
       "    </tr>\n",
       "    <tr>\n",
       "      <th id=\"T_f6475_level0_row7\" class=\"row_heading level0 row7\" >IndustryNameC</th>\n",
       "      <td id=\"T_f6475_row7_col0\" class=\"data row7 col0\" >行业名称C</td>\n",
       "    </tr>\n",
       "    <tr>\n",
       "      <th id=\"T_f6475_level0_row8\" class=\"row_heading level0 row8\" >IndustryCodeC</th>\n",
       "      <td id=\"T_f6475_row8_col0\" class=\"data row8 col0\" >行业代码C</td>\n",
       "    </tr>\n",
       "    <tr>\n",
       "      <th id=\"T_f6475_level0_row9\" class=\"row_heading level0 row9\" >IndustryNameD</th>\n",
       "      <td id=\"T_f6475_row9_col0\" class=\"data row9 col0\" >行业名称D</td>\n",
       "    </tr>\n",
       "    <tr>\n",
       "      <th id=\"T_f6475_level0_row10\" class=\"row_heading level0 row10\" >IndustryCodeD</th>\n",
       "      <td id=\"T_f6475_row10_col0\" class=\"data row10 col0\" >行业代码D</td>\n",
       "    </tr>\n",
       "    <tr>\n",
       "      <th id=\"T_f6475_level0_row11\" class=\"row_heading level0 row11\" >RegisterAddress</th>\n",
       "      <td id=\"T_f6475_row11_col0\" class=\"data row11 col0\" >注册具体地址</td>\n",
       "    </tr>\n",
       "    <tr>\n",
       "      <th id=\"T_f6475_level0_row12\" class=\"row_heading level0 row12\" >OfficeAddress</th>\n",
       "      <td id=\"T_f6475_row12_col0\" class=\"data row12 col0\" >公司办公地址</td>\n",
       "    </tr>\n",
       "    <tr>\n",
       "      <th id=\"T_f6475_level0_row13\" class=\"row_heading level0 row13\" >Zipcode</th>\n",
       "      <td id=\"T_f6475_row13_col0\" class=\"data row13 col0\" >办公地址邮政编码</td>\n",
       "    </tr>\n",
       "    <tr>\n",
       "      <th id=\"T_f6475_level0_row14\" class=\"row_heading level0 row14\" >Secretary</th>\n",
       "      <td id=\"T_f6475_row14_col0\" class=\"data row14 col0\" >董事会秘书</td>\n",
       "    </tr>\n",
       "    <tr>\n",
       "      <th id=\"T_f6475_level0_row15\" class=\"row_heading level0 row15\" >SecretaryTel</th>\n",
       "      <td id=\"T_f6475_row15_col0\" class=\"data row15 col0\" >董秘联系电话</td>\n",
       "    </tr>\n",
       "    <tr>\n",
       "      <th id=\"T_f6475_level0_row16\" class=\"row_heading level0 row16\" >SecretaryEmail</th>\n",
       "      <td id=\"T_f6475_row16_col0\" class=\"data row16 col0\" >董秘电子邮箱</td>\n",
       "    </tr>\n",
       "    <tr>\n",
       "      <th id=\"T_f6475_level0_row17\" class=\"row_heading level0 row17\" >SecurityConsultant</th>\n",
       "      <td id=\"T_f6475_row17_col0\" class=\"data row17 col0\" >证券事务代表</td>\n",
       "    </tr>\n",
       "    <tr>\n",
       "      <th id=\"T_f6475_level0_row18\" class=\"row_heading level0 row18\" >SocialCreditCode</th>\n",
       "      <td id=\"T_f6475_row18_col0\" class=\"data row18 col0\" >统一社会信用代码</td>\n",
       "    </tr>\n",
       "    <tr>\n",
       "      <th id=\"T_f6475_level0_row19\" class=\"row_heading level0 row19\" >Sigchange</th>\n",
       "      <td id=\"T_f6475_row19_col0\" class=\"data row19 col0\" >重大变更</td>\n",
       "    </tr>\n",
       "    <tr>\n",
       "      <th id=\"T_f6475_level0_row20\" class=\"row_heading level0 row20\" >Lng</th>\n",
       "      <td id=\"T_f6475_row20_col0\" class=\"data row20 col0\" >办公地经度</td>\n",
       "    </tr>\n",
       "    <tr>\n",
       "      <th id=\"T_f6475_level0_row21\" class=\"row_heading level0 row21\" >Lat</th>\n",
       "      <td id=\"T_f6475_row21_col0\" class=\"data row21 col0\" >办公地纬度</td>\n",
       "    </tr>\n",
       "    <tr>\n",
       "      <th id=\"T_f6475_level0_row22\" class=\"row_heading level0 row22\" >ISIN</th>\n",
       "      <td id=\"T_f6475_row22_col0\" class=\"data row22 col0\" >ISIN编码</td>\n",
       "    </tr>\n",
       "    <tr>\n",
       "      <th id=\"T_f6475_level0_row23\" class=\"row_heading level0 row23\" >FullName</th>\n",
       "      <td id=\"T_f6475_row23_col0\" class=\"data row23 col0\" >中文全称</td>\n",
       "    </tr>\n",
       "    <tr>\n",
       "      <th id=\"T_f6475_level0_row24\" class=\"row_heading level0 row24\" >LegalRepresentative</th>\n",
       "      <td id=\"T_f6475_row24_col0\" class=\"data row24 col0\" >法人代表</td>\n",
       "    </tr>\n",
       "    <tr>\n",
       "      <th id=\"T_f6475_level0_row25\" class=\"row_heading level0 row25\" >EstablishDate</th>\n",
       "      <td id=\"T_f6475_row25_col0\" class=\"data row25 col0\" >公司成立日期</td>\n",
       "    </tr>\n",
       "    <tr>\n",
       "      <th id=\"T_f6475_level0_row26\" class=\"row_heading level0 row26\" >Crcd</th>\n",
       "      <td id=\"T_f6475_row26_col0\" class=\"data row26 col0\" >ABH股交叉码</td>\n",
       "    </tr>\n",
       "    <tr>\n",
       "      <th id=\"T_f6475_level0_row27\" class=\"row_heading level0 row27\" >RegisterCapital</th>\n",
       "      <td id=\"T_f6475_row27_col0\" class=\"data row27 col0\" >注册资本</td>\n",
       "    </tr>\n",
       "    <tr>\n",
       "      <th id=\"T_f6475_level0_row28\" class=\"row_heading level0 row28\" >Website</th>\n",
       "      <td id=\"T_f6475_row28_col0\" class=\"data row28 col0\" >公司网址</td>\n",
       "    </tr>\n",
       "    <tr>\n",
       "      <th id=\"T_f6475_level0_row29\" class=\"row_heading level0 row29\" >BusinessScope</th>\n",
       "      <td id=\"T_f6475_row29_col0\" class=\"data row29 col0\" >经营范围</td>\n",
       "    </tr>\n",
       "    <tr>\n",
       "      <th id=\"T_f6475_level0_row30\" class=\"row_heading level0 row30\" >RegisterLongitude</th>\n",
       "      <td id=\"T_f6475_row30_col0\" class=\"data row30 col0\" >注册地经度</td>\n",
       "    </tr>\n",
       "    <tr>\n",
       "      <th id=\"T_f6475_level0_row31\" class=\"row_heading level0 row31\" >RegisterLatitude</th>\n",
       "      <td id=\"T_f6475_row31_col0\" class=\"data row31 col0\" >注册地纬度</td>\n",
       "    </tr>\n",
       "    <tr>\n",
       "      <th id=\"T_f6475_level0_row32\" class=\"row_heading level0 row32\" >EMAIL</th>\n",
       "      <td id=\"T_f6475_row32_col0\" class=\"data row32 col0\" >电子邮箱</td>\n",
       "    </tr>\n",
       "    <tr>\n",
       "      <th id=\"T_f6475_level0_row33\" class=\"row_heading level0 row33\" >LISTINGDATE</th>\n",
       "      <td id=\"T_f6475_row33_col0\" class=\"data row33 col0\" >首次上市日期</td>\n",
       "    </tr>\n",
       "    <tr>\n",
       "      <th id=\"T_f6475_level0_row34\" class=\"row_heading level0 row34\" >PROVINCECODE</th>\n",
       "      <td id=\"T_f6475_row34_col0\" class=\"data row34 col0\" >所属省份代码</td>\n",
       "    </tr>\n",
       "    <tr>\n",
       "      <th id=\"T_f6475_level0_row35\" class=\"row_heading level0 row35\" >PROVINCE</th>\n",
       "      <td id=\"T_f6475_row35_col0\" class=\"data row35 col0\" >所属省份</td>\n",
       "    </tr>\n",
       "    <tr>\n",
       "      <th id=\"T_f6475_level0_row36\" class=\"row_heading level0 row36\" >CITYCODE</th>\n",
       "      <td id=\"T_f6475_row36_col0\" class=\"data row36 col0\" >所属城市代码</td>\n",
       "    </tr>\n",
       "    <tr>\n",
       "      <th id=\"T_f6475_level0_row37\" class=\"row_heading level0 row37\" >CITY</th>\n",
       "      <td id=\"T_f6475_row37_col0\" class=\"data row37 col0\" >所属城市</td>\n",
       "    </tr>\n",
       "    <tr>\n",
       "      <th id=\"T_f6475_level0_row38\" class=\"row_heading level0 row38\" >MAINBUSSINESS</th>\n",
       "      <td id=\"T_f6475_row38_col0\" class=\"data row38 col0\" >主营业务</td>\n",
       "    </tr>\n",
       "    <tr>\n",
       "      <th id=\"T_f6475_level0_row39\" class=\"row_heading level0 row39\" >LISTINGSTATE</th>\n",
       "      <td id=\"T_f6475_row39_col0\" class=\"data row39 col0\" >上市状态</td>\n",
       "    </tr>\n",
       "  </tbody>\n",
       "</table>\n"
      ],
      "text/plain": [
       "<pandas.io.formats.style.Styler at 0x289f0c835c0>"
      ]
     },
     "execution_count": 79,
     "metadata": {},
     "output_type": "execute_result"
    }
   ],
   "source": [
    "# 查看所有变量的标签\n",
    "variable_labels = pd.Series(variable_labels)\n",
    "#variable_labels   # 丐版\n",
    "variable_labels.to_frame().style.set_properties(**{'text-align': 'left'})"
   ]
  },
  {
   "cell_type": "code",
   "execution_count": 60,
   "id": "932a6489",
   "metadata": {},
   "outputs": [
    {
     "data": {
      "text/plain": [
       "Symbol       股票代码\n",
       "EndDate    统计截止日期\n",
       "dtype: object"
      ]
     },
     "execution_count": 60,
     "metadata": {},
     "output_type": "execute_result"
    }
   ],
   "source": [
    "# 查看特定变量的标签\n",
    "variable_labels[['Symbol', 'EndDate']]"
   ]
  },
  {
   "cell_type": "code",
   "execution_count": 62,
   "id": "a97c0714",
   "metadata": {},
   "outputs": [
    {
     "data": {
      "application/vnd.microsoft.datawrangler.viewer.v0+json": {
       "columns": [
        {
         "name": "index",
         "rawType": "int64",
         "type": "integer"
        },
        {
         "name": "Symbol",
         "rawType": "object",
         "type": "string"
        },
        {
         "name": "ShortName",
         "rawType": "object",
         "type": "string"
        },
        {
         "name": "EndDate",
         "rawType": "object",
         "type": "string"
        },
        {
         "name": "ListedCoID",
         "rawType": "object",
         "type": "string"
        }
       ],
       "conversionMethod": "pd.DataFrame",
       "ref": "8a79fcfc-77f7-4fb2-b253-9c4e8e06bfbb",
       "rows": [
        [
         "0",
         "000001",
         "深发展A",
         "2000-12-31",
         "101704"
        ],
        [
         "1",
         "000001",
         "深发展A",
         "2001-12-31",
         "101704"
        ],
        [
         "2",
         "000001",
         "深发展A",
         "2002-12-31",
         "101704"
        ],
        [
         "3",
         "000001",
         "深发展A",
         "2003-12-31",
         "101704"
        ]
       ],
       "shape": {
        "columns": 4,
        "rows": 4
       }
      },
      "text/html": [
       "<div>\n",
       "<style scoped>\n",
       "    .dataframe tbody tr th:only-of-type {\n",
       "        vertical-align: middle;\n",
       "    }\n",
       "\n",
       "    .dataframe tbody tr th {\n",
       "        vertical-align: top;\n",
       "    }\n",
       "\n",
       "    .dataframe thead th {\n",
       "        text-align: right;\n",
       "    }\n",
       "</style>\n",
       "<table border=\"1\" class=\"dataframe\">\n",
       "  <thead>\n",
       "    <tr style=\"text-align: right;\">\n",
       "      <th></th>\n",
       "      <th>Symbol</th>\n",
       "      <th>ShortName</th>\n",
       "      <th>EndDate</th>\n",
       "      <th>ListedCoID</th>\n",
       "    </tr>\n",
       "  </thead>\n",
       "  <tbody>\n",
       "    <tr>\n",
       "      <th>0</th>\n",
       "      <td>000001</td>\n",
       "      <td>深发展A</td>\n",
       "      <td>2000-1...</td>\n",
       "      <td>101704</td>\n",
       "    </tr>\n",
       "    <tr>\n",
       "      <th>1</th>\n",
       "      <td>000001</td>\n",
       "      <td>深发展A</td>\n",
       "      <td>2001-1...</td>\n",
       "      <td>101704</td>\n",
       "    </tr>\n",
       "    <tr>\n",
       "      <th>2</th>\n",
       "      <td>000001</td>\n",
       "      <td>深发展A</td>\n",
       "      <td>2002-1...</td>\n",
       "      <td>101704</td>\n",
       "    </tr>\n",
       "    <tr>\n",
       "      <th>3</th>\n",
       "      <td>000001</td>\n",
       "      <td>深发展A</td>\n",
       "      <td>2003-1...</td>\n",
       "      <td>101704</td>\n",
       "    </tr>\n",
       "  </tbody>\n",
       "</table>\n",
       "</div>"
      ],
      "text/plain": [
       "   Symbol ShortName    EndDate ListedCoID\n",
       "0  000001      深发展A  2000-1...     101704\n",
       "1  000001      深发展A  2001-1...     101704\n",
       "2  000001      深发展A  2002-1...     101704\n",
       "3  000001      深发展A  2003-1...     101704"
      ]
     },
     "execution_count": 62,
     "metadata": {},
     "output_type": "execute_result"
    }
   ],
   "source": [
    "# 提示词：删除第一行观察值 (index=0)\n",
    "STK_basic_inf = STK_basic_inf.drop(index=0).reset_index(drop=True)\n",
    "\n",
    "# 列示处理完的数据：\n",
    "STK_basic_inf.iloc[:4, :4]"
   ]
  },
  {
   "cell_type": "markdown",
   "id": "9ea6da8b",
   "metadata": {},
   "source": [
    "\n",
    "\n",
    "## 任务 2：整理 myFile2 中的信息为字典\n",
    "\n",
    "接下来，我们将处理 `myFile2` 中的信息，并将其整理为两个字典：一个是包含变量中文名的字典，另一个是包含变量描述的字典。\n",
    "\n",
    "首先，加载 `myFile2` 文件并进行必要的处理：\n"
   ]
  },
  {
   "cell_type": "code",
   "execution_count": null,
   "id": "9e366a57",
   "metadata": {},
   "outputs": [
    {
     "data": {
      "text/plain": [
       "['Symbol [股票代码] - 上交所、深交所和北交所上市的证券代码。\\n',\n",
       " 'ShortName [股票简称] - 上交所、深交所和北交所上市上市的股票简称。\\n',\n",
       " 'EndDate [统计截止日期] - YYYY-MM-DD。\\n']"
      ]
     },
     "execution_count": 80,
     "metadata": {},
     "output_type": "execute_result"
    }
   ],
   "source": [
    "\n",
    "# 读取 myFile2: STK_LISTEDCOINFOANL[DES][xlsx].txt\n",
    "folder = r'D:\\Github\\dsfinance\\case\\CSMAR\\data_raw'\n",
    "filename2 = 'STK_LISTEDCOINFOANL[DES][xlsx].txt'\n",
    "file_path2 = f\"{folder}\\\\{filename2}\"\n",
    "# file_path2 = os.path.join(folder, filename2)  # 另一种路径拼接方式\n",
    "\n",
    "# 加载文本文件并转换为 DataFrame\n",
    "with open(file_path2, 'r', encoding='utf-8') as file:\n",
    "    lines = file.readlines()\n",
    "\n",
    "lines[:3]"
   ]
  },
  {
   "cell_type": "markdown",
   "id": "cf106afe",
   "metadata": {},
   "source": [
    "观察一下这个数据的特征，会发现，只需要根据 `' ['` 和 `'] - '` 来进行分割 (不包括两侧的单引号)，就可以得到我们需要的变量名、变量中文名和变量描述。我们可以把这个特征告诉 Copolit，来帮助我们完成数据的处理。"
   ]
  },
  {
   "cell_type": "code",
   "execution_count": null,
   "id": "c5c1318a",
   "metadata": {},
   "outputs": [
    {
     "data": {
      "text/plain": [
       "[('Symbol', '股票代码', '上交所、深交所和北交所上市的证券代码。'),\n",
       " ('ShortName', '股票简称', '上交所、深交所和北交所上市上市的股票简称。'),\n",
       " ('EndDate', '统计截止日期', 'YYYY-MM-DD。')]"
      ]
     },
     "execution_count": 70,
     "metadata": {},
     "output_type": "execute_result"
    }
   ],
   "source": [
    "# Initialize lists to store the split fields\n",
    "# 提示词：\n",
    "#       拆分 lines：根据 ' [' 和 '] - ' 这两个标记符把每一行文字拆成三个字段：\n",
    "#       var_name, var_label, var_description\n",
    "\n",
    "var_names = []\n",
    "var_labels = []\n",
    "var_descriptions = []\n",
    "\n",
    "# Process each line in the lines list\n",
    "for line in lines:\n",
    "    if ' [' in line and '] - ' in line:\n",
    "        # Extract the fields using the delimiters\n",
    "        var_name = line.split(' [')[0].strip()\n",
    "        var_label = line.split(' [')[1].split('] - ')[0].strip()\n",
    "        var_description = line.split('] - ')[1].strip()\n",
    "        # Append the extracted fields to their respective lists\n",
    "        var_names.append(var_name)\n",
    "        var_labels.append(var_label)\n",
    "        var_descriptions.append(var_description)\n",
    "\n",
    "# Display the first few results for verification\n",
    "list(zip(var_names[:3], var_labels[:3], var_descriptions[:3]))"
   ]
  },
  {
   "cell_type": "markdown",
   "id": "9b70051e",
   "metadata": {},
   "source": [
    "### 制作字典\n",
    "\n",
    "**提示词**：\n",
    "\n",
    "```raw\n",
    "?? 制作字典：\n",
    "方案1：做一个字典 {var_name , var_label, var_description}。\n",
    "方案2：做两个字典：dict1: {var_name, var_label}; dict2: {var_name, var_description}。\n",
    "你觉得哪个方案好？\n",
    "```\n",
    "\n",
    "**回答：**\n",
    "\n",
    "> A: 方案2更好，因为将变量名与其中文名和描述分成两个独立的字典（dict1 和 dict2）可以提高代码的可读性和灵活性。如果你只需要中文名或描述，可以直接访问对应的字典，而不需要处理额外的数据。此外，分开存储也更符合单一职责原则，便于维护和扩展。"
   ]
  },
  {
   "cell_type": "code",
   "execution_count": 74,
   "id": "87c5b155",
   "metadata": {},
   "outputs": [
    {
     "name": "stdout",
     "output_type": "stream",
     "text": [
      "dic_var_label: {'Symbol': '股票代码', 'ShortName': '股票简称'}\n",
      "dic_var_notes: {'Symbol': '上交所、深交所和北交所上市的证券代码。', 'ShortName': '上交所、深交所和北交所上市上市的股票简称。'}\n"
     ]
    }
   ],
   "source": [
    "# 创建字典 dic_var_label 和 dic_var_notes\n",
    "dic_var_label = dict(zip(var_names, var_labels))\n",
    "dic_var_notes = dict(zip(var_names, var_descriptions))\n",
    "\n",
    "# 输出字典的前几个键值对以验证\n",
    "print(\"dic_var_label:\", dict(list(dic_var_Cname.items())[:2]))\n",
    "print(\"dic_var_notes:\", dict(list(dic_var_Cnotes.items())[:2]))"
   ]
  },
  {
   "cell_type": "markdown",
   "id": "805909db",
   "metadata": {},
   "source": [
    "## 包装成函数：CSMAR_var_label\n",
    "\n",
    "> **提示词：**\n",
    "\n",
    "我们将基于上述处理过程，定义一个函数 `CSMAR_var_label()`，以便于后续的调用和复用。\n",
    "- input: 从 CSMAR 下载数据，解压后的 `FileName[DES][xlsx].txt` 文件\n",
    "- output：两个字典：`dic_var_label` 和 `dic_var_notes`\n",
    "- arguments\n",
    "  - `FileName`: 文件名，如果不填写，则默认为当前工作目录下的 `*[DES][xlsx].txt` 文件。\n",
    "  - `Folder(string)`: 文件路径，默认为当前工作目录\n",
    "  - `encoding()`: 编码格式，默认为 `utf-8`\n",
    "  - `sep`: 分隔符，默认为 `[' [', '] - ']`"
   ]
  },
  {
   "cell_type": "code",
   "execution_count": null,
   "id": "cb65fca5",
   "metadata": {},
   "outputs": [],
   "source": [
    "import os\n",
    "\n",
    "def CSMAR_var_label(FileName=None, \n",
    "                    Folder=os.getcwd(), \n",
    "                    encoding='utf-8', \n",
    "                    sep=[' [', '] - ']):\n",
    "    \"\"\"\n",
    "    Process the [DES][xlsx].txt file from CSMAR to extract variable labels and descriptions.\n",
    "\n",
    "    Args:\n",
    "        FileName (str): The file name of the [DES][xlsx].txt file. Defaults to None.\n",
    "        Folder (str): The folder path where the file is located. Defaults to the current working directory.\n",
    "        encoding (str): The encoding format of the file. Defaults to 'utf-8'.\n",
    "        sep (list): The delimiters used to split the lines. Defaults to [' [', '] - '].\n",
    "\n",
    "    Returns:\n",
    "        tuple: Two dictionaries:\n",
    "            - dic_var_label: A dictionary mapping variable names to their Chinese labels.\n",
    "            - dic_var_notes: A dictionary mapping variable names to their descriptions.\n",
    "    \"\"\"\n",
    "    # Determine the file path\n",
    "    if FileName is None:\n",
    "        # Automatically find a file ending with [DES][xlsx].txt in the folder\n",
    "        files = [f for f in os.listdir(Folder) if f.endswith('[DES][xlsx].txt')]\n",
    "        if not files:\n",
    "            raise FileNotFoundError(\"No [DES][xlsx].txt file found in the specified folder.\")\n",
    "        FileName = files[0]\n",
    "    file_path = os.path.join(Folder, FileName)\n",
    "\n",
    "    # Read the file\n",
    "    with open(file_path, 'r', encoding=encoding) as file:\n",
    "        lines = file.readlines()\n",
    "\n",
    "    # Initialize lists to store the split fields\n",
    "    var_names = []\n",
    "    var_labels = []\n",
    "    var_descriptions = []\n",
    "\n",
    "    # Process each line in the file\n",
    "    for line in lines:\n",
    "        if sep[0] in line and sep[1] in line:\n",
    "            # Extract the fields using the delimiters\n",
    "            var_name = line.split(sep[0])[0].strip()\n",
    "            var_label = line.split(sep[0])[1].split(sep[1])[0].strip()\n",
    "            var_description = line.split(sep[1])[1].strip()\n",
    "            # Append the extracted fields to their respective lists\n",
    "            var_names.append(var_name)\n",
    "            var_labels.append(var_label)\n",
    "            var_descriptions.append(var_description)\n",
    "\n",
    "    # Create dictionaries\n",
    "    dic_var_label = dict(zip(var_names, var_labels))\n",
    "    dic_var_notes = dict(zip(var_names, var_descriptions))\n",
    "\n",
    "    return dic_var_label, dic_var_notes"
   ]
  },
  {
   "cell_type": "markdown",
   "id": "fd1a0208",
   "metadata": {},
   "source": [
    "### 如何使用自定义函数 CSMAR_var_label()？\n",
    "\n",
    "> **提示词 1**：我如何使用自己定义的 CSMAR_var_label() 函数？\n",
    "\n",
    "```python\n",
    "# 定义文件路径\n",
    "file_path = r'D:\\Github\\dsfinance\\case\\CSMAR\\data_raw\\STK_LISTEDCOINFOANL[DES][xlsx].txt'\n",
    "\n",
    "# 调用函数\n",
    "dic_var_label, dic_var_notes = CSMAR_var_label(file_path)\n",
    "\n",
    "# 查看结果\n",
    "print(\"变量中文名字典:\", list(dic_var_label.items())[:5])  # 打印前5个键值对\n",
    "print(\"变量描述字典:\", list(dic_var_notes.items())[:5])  # 打印前5个键值对\n",
    "```\n",
    "\n",
    "> **提示词 2**：我应该选择哪一种使用方式？(1) 把这个 CSMAR_var_label() 函数放在我这份 .ipynb 文档中；(2) 另存为 CSMAR_var_label.py 文档，并保存在当前工作路径下？\n",
    "\n",
    "1. **放在 `.ipynb` 文档中**：\n",
    "    - 适合临时性或一次性使用。\n",
    "    - 如果你只在当前的 Jupyter Notebook 中使用这个函数，并且不需要在其他项目中复用，直接放在 `.ipynb` 文档中更方便。\n",
    "\n",
    "2. **另存为 `CSMAR_var_label.py` 文件**：\n",
    "    - 适合长期使用和复用。\n",
    "    - 如果你需要在多个项目或 Notebook 中使用这个函数，保存为 `.py` 文件更好。这样可以通过 `import` 直接调用，避免重复定义代码，提高代码的可维护性和复用性。\n",
    "\n",
    "**推荐**：如果你计划在多个地方使用，建议选择方式 (2)，将其保存为 `CSMAR_var_label.py` 文件，并保存在当前工作路径下。\n",
    "\n",
    "### 我的选择\n",
    "\n",
    "由于我还有多个数据文件需要处理，所以我选择了将函数保存为 `CSMAR_var_label.py` 文件，并保存在当前工作路径下。\n",
    "\n"
   ]
  },
  {
   "cell_type": "markdown",
   "id": "6092db5b",
   "metadata": {},
   "source": [
    "## 读入数据文件\n",
    "\n",
    "基本处理思路如下：\n",
    "1. 使用 `pandas` 库来读取数据文件 `STK_LISTEDCOINFOANL.xlsx`，并将其转换为 DataFrame 对象 `STK_LISTEDCOINFOANL`。完成处理后，我们会根据处理过程定义一个函数 `CSMAR_read_data()`，以便于后续的调用和复用。\n",
    "2. 调用 `CSMAR_var_label()` 函数，得到两个字典：`dic_var_label` 和 `dic_var_notes`\n",
    "3. 将第 2 步返回的 `dic_var_label` 和 `dic_var_notes` 作为参数附加到第 1 步得到的数据框 `STK_LISTEDCOINFOANL` 中，得到最终的 DataFrame 对象 `STK_basic_inf`。\n",
    "\n",
    "当然，我们也可以进一步将 `CSMAR_var_label()` 函数和 `CSMAR_read_data()` 函数结合起来，形成一个更通用的函数 `read_CSMAR_data()`。使用时，只需要指定数据文件所在路径，或指定 `FileName.xlsx` 和 `FileName[DES][xlsx].txt` 这两份文件中的关键字段 **FileName** 即可。\n",
    "\n",
    "再进一步，可以定义一个更通用的函数 `read_CSMAR()`：用户只需指定存储数据的 **Folder**，程序会自动循环调用 `read_CSMAR_data()` 函数，将每一对 `FileName_i.xlsx` 和 `FileName_i[DES][xlsx].txt` 文件都转换为数据框 **FileName_i**。\n",
    "\n",
    "\n",
    "根据上述思路，最终的 `read_CSMAR()` 函数的选项如下：\n",
    "- `Folder = 'string'`：数据文件所在的文件夹路径，默认值为 `getcwd()`。\n",
    "- `FileName = 'string'`：数据文件的名称，默认值为 `None`。如果不填，则自动循环读取文件夹中的所有文件。\n",
    "- `FileType = 'xlsx'`：数据文件的类型，默认值为 `xlsx`。其它选项包括 (此时，需要酌情修改 `read_CSMAR_data()` 函数)：\n",
    "  - `csv`：逗号分隔值文件\n",
    "  - `txt`：制表符分隔值文件\n",
    "- `df_name = 'string' 或 list`：数据框的名称，默认值为 `None`。如果设定为 list，则按照先后顺序与文件中的 **.xlsx** 文件对应。令 len_list = wordof(list)，len_fn = wordof(fileNames)，若 `len_list<len_fn`，则前  len_list 个文件名的数据框名称，其它的采用 fileName 作为数据框的名称。\n"
   ]
  },
  {
   "cell_type": "markdown",
   "id": "605d7b03",
   "metadata": {},
   "source": [
    "## 新的数据处理流程\n",
    "1. 读入「变量-标签」文件：`STK_LISTEDCOINFOANL[DES][xlsx].txt`\n",
    "2. 调用 `CSMAR_var_label()` 函数，得到两个字典：`dic_var_label` 和 `dic_var_notes`\n",
    "3. 读入「数据文件」：`STK_LISTEDCOINFOANL.xlsx`\n",
    "4. 将 `dic_var_label` 和 `dic_var_notes` 作为参数传入 `CSMAR_basic_inf()` 函数，得到最终的 DataFrame 对象 `STK_basic_inf`。"
   ]
  },
  {
   "cell_type": "code",
   "execution_count": 88,
   "id": "c2dad70b",
   "metadata": {},
   "outputs": [
    {
     "data": {
      "image/png": "[encoded data removed]",
      "text/plain": [
       "<Figure size 800x500 with 1 Axes>"
      ]
     },
     "metadata": {},
     "output_type": "display_data"
    }
   ],
   "source": [
    "import numpy as np\n",
    "import matplotlib.pyplot as plt\n",
    "\n",
    "# 设置支持中文的字体，例如 SimHei（黑体）\n",
    "rcParams['font.sans-serif'] = ['SimHei']  # 使用黑体\n",
    "rcParams['axes.unicode_minus'] = False  # 解决负号显示问题\n",
    "\n",
    "# Define parameters\n",
    "c = 0\n",
    "gamma_values = [0, 0.3, 1, 9]  # gamma values\n",
    "x = np.linspace(-6, 6, 500)  # x-axis range\n",
    "\n",
    "# Define the sigmoid function\n",
    "def sigmoid(x, gamma, c):\n",
    "    return (1 + np.exp(-gamma * (x - c))) ** -1\n",
    "\n",
    "# Plot the functions for different gamma values\n",
    "plt.figure(figsize=(8, 5))\n",
    "colors = ['blue', 'red', 'green', 'orange']  # Colors for each gamma\n",
    "labels = [f\"c = {c}, gamma = {gamma}\" for gamma in gamma_values]\n",
    "\n",
    "for gamma, color, label in zip(gamma_values, colors, labels):\n",
    "    y = sigmoid(x, gamma, c)\n",
    "    plt.plot(x, y, label=label, color=color, linestyle='--')  # Dashed line for functions\n",
    "\n",
    "# Add horizontal and vertical lines\n",
    "plt.axhline(0, color='black', linestyle=':', linewidth=1.8, alpha=0.9)  # Horizontal line at y=0\n",
    "plt.axvline(0, color='black', linestyle=':', linewidth=1.8, alpha=0.9)  # Vertical line at x=0\n",
    "\n",
    "# Add labels, title, and legend\n",
    "plt.title(\"转换函数 g(q; γ, c) 随速度参数 γ 的变化\", fontsize=12)\n",
    "plt.xlabel(\"q\", fontsize=12)\n",
    "plt.ylabel(\"g(q; γ, c)\", fontsize=12)\n",
    "plt.xticks(np.arange(-6, 7, 2))  # Custom x-axis ticks\n",
    "plt.yticks(np.arange(0, 1.1, 0.1))  # Custom y-axis ticks\n",
    "plt.legend(loc='upper left', fontsize=10)\n",
    "plt.grid(True, linestyle='--', alpha=0.5)  # Add grid for better visualization\n",
    "\n",
    "# Show the plot\n",
    "plt.tight_layout()\n",
    "plt.show()\n"
   ]
  },
  {
   "cell_type": "code",
   "execution_count": 89,
   "id": "406bee40",
   "metadata": {},
   "outputs": [
    {
     "data": {
      "image/png": "[encoded data removed]",
      "text/plain": [
       "<Figure size 800x500 with 1 Axes>"
      ]
     },
     "metadata": {},
     "output_type": "display_data"
    }
   ],
   "source": [
    "import numpy as np\n",
    "from matplotlib import rcParams\n",
    "\n",
    "import matplotlib.pyplot as plt\n",
    "\n",
    "# 设置支持中文的字体，例如 SimHei（黑体）\n",
    "rcParams['font.sans-serif'] = ['SimHei']  # 使用黑体\n",
    "rcParams['axes.unicode_minus'] = False  # 解决负号显示问题\n",
    "\n",
    "# 定义参数\n",
    "gamma = 1\n",
    "c_values = [-2, 0, 2]  # c 的不同取值\n",
    "x = np.linspace(-8, 8, 500)  # x 轴范围\n",
    "\n",
    "# 定义 sigmoid 函数\n",
    "def sigmoid(x, gamma, c):\n",
    "    return (1 + np.exp(-gamma * (x - c))) ** -1\n",
    "\n",
    "# 绘制不同 c 值的曲线\n",
    "plt.figure(figsize=(8, 5))\n",
    "colors = ['blue', 'red', 'green']  # 每个 c 值对应的颜色\n",
    "labels = [f\"gamma = {gamma}, c = {c}\" for c in c_values]\n",
    "\n",
    "for c, color, label in zip(c_values, colors, labels):\n",
    "    y = sigmoid(x, gamma, c)\n",
    "    plt.plot(x, y, label=label, color=color, linestyle='--')  # 使用虚线绘制曲线\n",
    "\n",
    "# 添加水平线和垂直线\n",
    "plt.axhline(0.5, color='black', linestyle=':', linewidth=1.8, alpha=0.9)  # 水平线 y=0.5\n",
    "plt.axvline(0, color='black', linestyle=':', linewidth=1.8, alpha=0.9)  # 垂直线 x=0\n",
    "\n",
    "# 添加标题、标签和图例\n",
    "plt.title(\"转换函数 g(q; γ, c) 随位置参数 c 的变化\", fontsize=12)\n",
    "plt.xlabel(\"q\", fontsize=12)\n",
    "plt.ylabel(\"g(q; γ, c)\", fontsize=12)\n",
    "plt.xticks(np.arange(-8, 9, 2))  # 自定义 x 轴刻度\n",
    "plt.yticks(np.arange(0, 1.1, 0.1))  # 自定义 y 轴刻度\n",
    "plt.legend(loc='upper left', fontsize=10)\n",
    "plt.grid(True, linestyle='--', alpha=0.5)  # 添加网格线\n",
    "\n",
    "# 显示图形\n",
    "plt.tight_layout()\n",
    "plt.show()"
   ]
  },
  {
   "cell_type": "markdown",
   "id": "ae662071",
   "metadata": {},
   "source": [
    "# PSTR\n",
    "\n",
    "本文介绍面板平滑转换模型 (PSTR) 的基本概念、模型设定、估计和检验方法，并通过 Python 实现 PSTR 模型的估计和检验。\n",
    "\n",
    "## 模型设定\n",
    "\n",
    "PSTR 模型的基本形式如下：\n",
    "\n",
    "$$\n",
    "y_{it} = \\alpha_i + \\beta_0 x_{it} + \\beta_1 x_{it} g(q_{it}; \\gamma, c) + \\epsilon_{it}\n",
    "$$\n",
    "\n",
    "其中，$y_{it}$ 是被解释变量，$x_{it}$ 是解释变量，$g(q_{it}; \\gamma, c)$ 是平滑转换函数，$\\alpha_i$ 是个体效应，$\\beta_0$ 和 $\\beta_1$ 是参数，$\\epsilon_{it}$ 是误差项。\n",
    "\n",
    "平滑转换函数的设定如下：\n",
    "$$\n",
    "g(q_{it}; \\gamma, c) = \\frac{1}{1 + e^{-\\gamma (q_{it} - c)}}\n",
    "$$\n",
    "其中，$q_{it}$ 是平滑转换变量，$\\gamma$ 是平滑参数 (转换速度)，$c$ 是转换点。\n",
    "\n",
    "下通过一些简单的模拟分析来说明 $\\gamma$ 和 $c$ 的含义和作用。\n",
    "\n",
    "\n",
    "\n",
    "## 参考文献：\n",
    "- Gonzalo, J., & Pitarakis, J. (2006). Estimation and inference in smooth transition models. Journal of Econometrics, 135(1), 107-130.\n",
    "- "
   ]
  },
  {
   "cell_type": "code",
   "execution_count": null,
   "id": "095f7377",
   "metadata": {},
   "outputs": [
    {
     "name": "stdout",
     "output_type": "stream",
     "text": [
      "Estimated parameters: beta1=1.9821785851828573, beta2=3.0285019244192566, gamma=4.886915582203641, c=0.49800786495800237\n"
     ]
    }
   ],
   "source": [
    "import numpy as np\n",
    "import pandas as pd\n",
    "from scipy.optimize import minimize\n",
    "\n",
    "# 定义平滑转换函数（逻辑函数）\n",
    "def smooth_transition(x, gamma, c):\n",
    "    return 1 / (1 + np.exp(-gamma * (x - c)))\n",
    "\n",
    "# 定义平滑转换模型\n",
    "def panel_smooth_transition_model(params, X, Y, Z):\n",
    "    beta1, beta2, gamma, c = params\n",
    "    transition = smooth_transition(Z, gamma, c)\n",
    "    y_pred = beta1 * X + beta2 * X * transition\n",
    "    return np.sum((Y - y_pred) ** 2)  # 最小化残差平方和\n",
    "\n",
    "# 示例数据，加入个体固定效应和时间固定效应\n",
    "np.random.seed(42)\n",
    "N, T = 100, 10  # 面板数据的个体数和时间点\n",
    "individual_effects = np.random.normal(0, 0.5, N)  # 个体固定效应\n",
    "time_effects = np.random.normal(0, 0.2, T)  # 时间固定效应\n",
    "\n",
    "X = np.random.rand(N * T)\n",
    "Z = np.random.rand(N * T)\n",
    "\n",
    "# 构造 Y，加入个体固定效应和时间固定效应\n",
    "Y = (\n",
    "    2 * X\n",
    "    + 3 * X * smooth_transition(Z, 5, 0.5)\n",
    "    + np.repeat(individual_effects, T)\n",
    "    + np.tile(time_effects, N)\n",
    "    + np.random.normal(0, 0.1, N * T)\n",
    ")\n",
    "\n",
    "# 初始参数\n",
    "initial_params = [1, 1, 1, 0.5]\n",
    "\n",
    "# 优化\n",
    "result = minimize(panel_smooth_transition_model, initial_params, args=(X, Y, Z), method='L-BFGS-B')\n",
    "beta1, beta2, gamma, c = result.x\n",
    "\n",
    "print(f\"Estimated parameters: beta1={beta1}, beta2={beta2}, gamma={gamma}, c={c}\")"
   ]
  },
  {
   "cell_type": "code",
   "execution_count": null,
   "id": "ff4aa113",
   "metadata": {},
   "outputs": [],
   "source": []
  },
  {
   "cell_type": "code",
   "execution_count": null,
   "id": "b158f485",
   "metadata": {},
   "outputs": [],
   "source": []
  }
 ],
 "metadata": {
  "kernelspec": {
   "display_name": "base",
   "language": "python",
   "name": "python3"
  },
  "language_info": {
   "codemirror_mode": {
    "name": "ipython",
    "version": 3
   },
   "file_extension": ".py",
   "mimetype": "text/x-python",
   "name": "python",
   "nbconvert_exporter": "python",
   "pygments_lexer": "ipython3",
   "version": "3.12.7"
  }
 },
 "nbformat": 4,
 "nbformat_minor": 5
}
