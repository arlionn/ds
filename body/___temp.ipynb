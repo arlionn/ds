{
 "cells": [
  {
   "cell_type": "markdown",
   "id": "10bdff72",
   "metadata": {},
   "source": [
    "- 任务：列出文件夹内的所有文件\n",
    "  - 仅列出完整文件名 {file_name}\n",
    "  - 不包括文件夹\n",
    "  - 增加一个变量 keywords，以便我有选择地列举\n",
    "  - 增加一个变量 exclude，以便我有选择地排除\n",
    "- 文件夹：D:\\Github\\ds\\body\n",
    "- 格式：'        - body/{file_name}.{suffix}' (保留我提供的空格)\n",
    "- 输出：打印在控制台即可"
   ]
  },
  {
   "cell_type": "code",
   "execution_count": 5,
   "id": "b916b9ea",
   "metadata": {},
   "outputs": [
    {
     "name": "stdout",
     "output_type": "stream",
     "text": [
      "        - body/00_0_DSFinance-intro.md\n",
      "        - body/00_intro.ipynb\n",
      "        - body/00_py_with_AI_intro.ipynb\n",
      "        - body/00_py_with_AI_pic.ipynb\n",
      "        - body/01_1_install-Python-Anocanda.ipynb\n",
      "        - body/01_2_install_FAQs.ipynb\n",
      "        - body/01_3_markdown.md\n",
      "        - body/01_py_01_basic.ipynb\n",
      "        - body/01_py_01_basic_01_grammer.ipynb\n",
      "        - body/01_py_01_basic_02_QuickReference.md\n",
      "        - body/01_py_01_basic_03_Useful_Packages.md\n",
      "        - body/01_py_01_basic_04_import.md\n",
      "        - body/01_py_02_numpy_scipy.ipynb\n",
      "        - body/01_py_03_matplotlib.ipynb\n",
      "        - body/01_py_04_func_and_module.ipynb\n",
      "        - body/01_py_05_class.ipynb\n",
      "        - body/02_statistic_intro.ipynb\n",
      "        - body/data_01_get_data.ipynb\n",
      "        - body/data_02_data_type.ipynb\n",
      "        - body/data_02_get_data_GMD.ipynb\n",
      "        - body/data_readdata.ipynb\n",
      "        - body/graph_01_intro.ipynb\n",
      "        - body/graph_01_intro_new.ipynb\n",
      "        - body/graph_dis_box_violin.ipynb\n",
      "        - body/graph_dis_histogram.ipynb\n",
      "        - body/graph_dis_kdensity.ipynb\n",
      "        - body/TS_FRED_US_unemploy_rate.ipynb\n",
      "        - body/TS_SZ_index.ipynb\n",
      "        - body/web_01_intro.md\n",
      "        - body/web_flask_request_selenium.ipynb\n",
      "        - body/web_html_bs.ipynb\n",
      "        - body/_00_素材.ipynb\n",
      "        - body/_home.qmd\n",
      "        - body/___temp.ipynb\n"
     ]
    }
   ],
   "source": [
    "import os\n",
    "\n",
    "# 增加关键词变量\n",
    "keywords = []\n",
    "exclude = []\n",
    "\n",
    "folder_path = os.getcwd()\n",
    "\n",
    "for file in os.listdir(folder_path):\n",
    "    if os.path.isfile(os.path.join(folder_path, file)):\n",
    "        file_name, suffix = os.path.splitext(file)\n",
    "        suffix = suffix.lstrip('.')\n",
    "        # 如果keywords为空或文件名包含任一关键词且不在排除列表则输出\n",
    "        if (not keywords or any(kw in file_name for kw in keywords)) and \\\n",
    "           (not exclude or all(ex not in file_name for ex in exclude)):\n",
    "            print(f'        - body/{file_name}.{suffix}')"
   ]
  }
 ],
 "metadata": {
  "kernelspec": {
   "display_name": "base",
   "language": "python",
   "name": "python3"
  },
  "language_info": {
   "codemirror_mode": {
    "name": "ipython",
    "version": 3
   },
   "file_extension": ".py",
   "mimetype": "text/x-python",
   "name": "python",
   "nbconvert_exporter": "python",
   "pygments_lexer": "ipython3",
   "version": "3.12.7"
  }
 },
 "nbformat": 4,
 "nbformat_minor": 5
}
