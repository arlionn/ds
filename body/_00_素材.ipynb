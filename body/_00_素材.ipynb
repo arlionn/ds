{
 "cells": [
  {
   "cell_type": "markdown",
   "id": "1407a33e",
   "metadata": {},
   "source": [
    "<div class=\"alert alert-note\" role=\"alert\">\n",
    "  <strong>Warning!</strong> Python lists start at 0\n",
    "</div>"
   ]
  },
  {
   "cell_type": "markdown",
   "id": "6a5507b1",
   "metadata": {},
   "source": [
    "<div class=\"alert alert-danger\" role=\"alert\">\n",
    "  <strong>Warning!</strong> Python lists start at 0\n",
    "</div>"
   ]
  },
  {
   "cell_type": "markdown",
   "id": "9205449d",
   "metadata": {},
   "source": [
    "::: {.callout-note}\n",
    "This is a note for readers.\n",
    ":::\n",
    "\n",
    "- `.alert-success`\n",
    "- `.alert-info`\n",
    "- `.alert-warning`\n",
    "- `.alert-danger`\n",
    "- `.callout-note`\n",
    "- `.callout-tip`\n",
    "- `.callout-warning`\n",
    "- `.callout-important`\n"
   ]
  },
  {
   "cell_type": "markdown",
   "id": "f0ebe98e",
   "metadata": {},
   "source": [
    "## mini case 素材\n",
    "\n",
    "- [Financial Data Analysis: Case Study](https://statso.io/financial-data-analysis-case-study/#google_vignette)"
   ]
  },
  {
   "cell_type": "markdown",
   "id": "a1ca12be",
   "metadata": {},
   "source": [
    "## 参考资料\n",
    "- James, G., D. Witten, T. Hastie, R. Tibshirani. **An introduction to statistical learning**: with Applications in Python (ISLP)[M]. Springer, **2023**, [website](https://www.statlearning.com/), [Resources](https://www.statlearning.com/resources-python), [github](https://github.com/intro-stat-learning/ISLP_labs), [-PDF-](https://bayanbox.ir/view/1060725898744657072/An-Introduction-to-Statistical-Learning-with-Applications-in-Python.pdf)\n",
    "  - [ISLP documentation](https://intro-stat-learning.github.io/ISLP/)：书中数据文件的详细说明\n",
    "  - [各章 Python 实操部分](https://intro-stat-learning.github.io/ISLP/labs/Ch02-statlearn-lab.html)\n",
    "  - [github-Notebooks](https://github.com/ogulcancicek/An-Introduction-to-Statistical-Learning-Python)&emsp; |&emsp; [Excercises and Solultions](https://github.com/hardikkamboj/An-Introduction-to-Statistical-Learning)"
   ]
  }
 ],
 "metadata": {
  "language_info": {
   "name": "python"
  }
 },
 "nbformat": 4,
 "nbformat_minor": 5
}
